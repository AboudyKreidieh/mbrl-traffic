{
 "cells": [
  {
   "cell_type": "code",
   "execution_count": 1,
   "metadata": {},
   "outputs": [],
   "source": [
    "import numpy as np\n",
    "import scipy.optimize as sci\n",
    "import pandas as pd\n",
    "import matplotlib.pyplot as plt\n",
    "import os\n",
    "import sys\n",
    "sys.path.append('/Users/gilbertbahatij/mbrl-traffic/')\n",
    "# from mbrl_traffic.models.lwr import LWRModel\n",
    "# from mbrl_traffic.models.arz import ARZModel\n",
    "import numpy as np"
   ]
  },
  {
   "cell_type": "markdown",
   "metadata": {},
   "source": [
    "# Fundamental Diagram\n"
   ]
  },
  {
   "cell_type": "code",
   "execution_count": 2,
   "metadata": {},
   "outputs": [],
   "source": [
    "# read data 75 folder\n",
    "dir = \"/Users/gilbertbahatij/sumo-idm/75/macro/\"\n",
    "data = pd.DataFrame()\n",
    "file_list = os.listdir(dir)\n",
    "for file in file_list:\n",
    "    if \".csv\" in file:\n",
    "        T = pd.read_csv(dir + file)\n",
    "        data = pd.concat([data, T])"
   ]
  },
  {
   "cell_type": "code",
   "execution_count": 3,
   "metadata": {},
   "outputs": [],
   "source": [
    "# get speeds and densities\n",
    "speeds = data.loc[:, data.columns.str.contains(\"speed\")]\n",
    "densities = data.loc[:, data.columns.str.contains(\"density\")]"
   ]
  },
  {
   "cell_type": "code",
   "execution_count": 4,
   "metadata": {},
   "outputs": [],
   "source": [
    "#get flows\n",
    "col = speeds.columns.str.replace(\"speed\", \"flow\")\n",
    "flow = (speeds * densities.values)\n",
    "flow.columns = col"
   ]
  },
  {
   "cell_type": "code",
   "execution_count": 16,
   "metadata": {},
   "outputs": [
    {
     "data": {
      "image/png": "[encoded data removed]",
      "text/plain": [
       "<Figure size 432x288 with 1 Axes>"
      ]
     },
     "metadata": {
      "needs_background": "light"
     },
     "output_type": "display_data"
    }
   ],
   "source": [
    "#plot FD\n",
    "plt.scatter(densities, flow)\n",
    "plt.show()"
   ]
  },
  {
   "cell_type": "markdown",
   "metadata": {},
   "source": [
    "# Nedler - Mead Method"
   ]
  },
  {
   "cell_type": "code",
   "execution_count": 6,
   "metadata": {},
   "outputs": [],
   "source": [
    "\"\"\"Calibrate LWR with Data\"\"\"\n",
    "from scipy.optimize import minimize\n",
    "from flow.core.macroscopic import LWR\n",
    "from flow.core.macroscopic.lwr import PARAMS as LWR_PARAMS\n",
    "from flow.core.macroscopic.utils import run\n",
    "from flow.core.macroscopic.Calibration.aggregate_micro_to_macro import agg_func\n",
    "params = LWR_PARAMS.copy()\n"
   ]
  },
  {
   "cell_type": "code",
   "execution_count": 7,
   "metadata": {},
   "outputs": [],
   "source": [
    "# set static parameters\n",
    "params[\"length\"] = 30\n",
    "params['rho_max_max'] = 1\n",
    "params[\"dx\"] = 1\n",
    "params[\"dt\"] = 0.5\n",
    "params['boundary_conditions'] = \"loop\"\n",
    "\n",
    "# set inital conditions and solutions\n",
    "params['initial_conditions'] = np.array(densities.iloc[1,:])\n",
    "solution = np.array(densities.iloc[50,:])"
   ]
  },
  {
   "cell_type": "code",
   "execution_count": 8,
   "metadata": {},
   "outputs": [],
   "source": [
    "# LWR [rho_max, lam] \n",
    "# ARZ = [rho_max, v_max, lam, tau]\n",
    "\n",
    "def objective(x):\n",
    "    global loss_array\n",
    "    \n",
    "    # load params\n",
    "    params['rho_max'] = x[0]\n",
    "    params[\"lam\"] = x[1]\n",
    "    \n",
    "    #run one time step\n",
    "    env = LWR(params)\n",
    "    obs = env.reset()\n",
    "    obs, _, _, _ = env.step(rl_actions = params['v_max'])\n",
    "    \n",
    "    lwr_density_pred = obs[:int(obs.shape[0]/2)]\n",
    "    lwr_speeds_pred = obs[int(obs.shape[0]/2):]\n",
    "\n",
    "    #loss function; root mean square error\n",
    "    loss = np.sqrt(np.mean((solution - lwr_density_pred)**2))\n",
    "    \n",
    "    # logging/Plotting\n",
    "    loss_array = np.append(loss_array,loss)\n",
    "    return loss\n"
   ]
  },
  {
   "cell_type": "code",
   "execution_count": 12,
   "metadata": {},
   "outputs": [
    {
     "name": "stdout",
     "output_type": "stream",
     "text": [
      "Optimization terminated successfully.\n",
      "         Current function value: 0.016246\n",
      "         Iterations: 106\n",
      "         Function evaluations: 250\n",
      "Optimal Parameter = [0.13691372 0.5571348 ]\n"
     ]
    },
    {
     "data": {
      "image/png": "[encoded data removed]",
      "text/plain": [
       "<Figure size 432x288 with 1 Axes>"
      ]
     },
     "metadata": {
      "needs_background": "light"
     },
     "output_type": "display_data"
    }
   ],
   "source": [
    "# for logging purposes/Plotting\n",
    "global loss_array\n",
    "loss_array = np.array([])\n",
    "\n",
    "#set inital values and bounds\n",
    "x0 = [0.1, 0.1]\n",
    "bnds = [(0.0,4.0), (0.0,1.0)]\n",
    "\n",
    "# solve single run\n",
    "sol = minimize(objective,x0, \n",
    "               method=\"Nelder-Mead\", \n",
    "               bounds=bnds, \n",
    "               tol=1e-1000, \n",
    "               callback=None,\n",
    "               options = {\"disp\" : True})\n",
    "\n",
    "print(\"Optimal Parameter = {}\".format(sol.x) )\n",
    "plt.plot(loss_array)\n",
    "plt.show()"
   ]
  },
  {
   "cell_type": "markdown",
   "metadata": {},
   "source": [
    "# Cross Entopy"
   ]
  },
  {
   "cell_type": "code",
   "execution_count": 74,
   "metadata": {},
   "outputs": [],
   "source": [
    "#https://github.com/jerrylin1121/cross_entropy_method"
   ]
  },
  {
   "cell_type": "code",
   "execution_count": null,
   "metadata": {},
   "outputs": [],
   "source": []
  }
 ],
 "metadata": {
  "kernelspec": {
   "display_name": "Python_flow",
   "language": "python",
   "name": "python_flow"
  },
  "language_info": {
   "codemirror_mode": {
    "name": "ipython",
    "version": 3
   },
   "file_extension": ".py",
   "mimetype": "text/x-python",
   "name": "python",
   "nbconvert_exporter": "python",
   "pygments_lexer": "ipython3",
   "version": "3.6.8"
  }
 },
 "nbformat": 4,
 "nbformat_minor": 2
}
